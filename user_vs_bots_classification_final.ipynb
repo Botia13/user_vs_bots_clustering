{
 "cells": [
  {
   "cell_type": "code",
   "execution_count": null,
   "id": "34515d1b",
   "metadata": {},
   "outputs": [],
   "source": [
    "import pandas as pd\n",
    "import numpy as np\n",
    "import kagglehub\n",
    "import seaborn as sns\n",
    "import matplotlib.pyplot as plt\n",
    "\n",
    "from sklearn.decomposition import PCA\n",
    "from sklearn.model_selection import train_test_split\n",
    "from sklearn.preprocessing import OrdinalEncoder, LabelEncoder\n",
    "from sklearn.cluster import KMeans, AgglomerativeClustering, DBSCAN\n",
    "from sklearn.mixture import GaussianMixture\n",
    "from sklearn.metrics import accuracy_score\n"
   ]
  },
  {
   "cell_type": "code",
   "execution_count": 119,
   "id": "6e77f9ca",
   "metadata": {},
   "outputs": [],
   "source": [
    "#random state\n",
    "rd = 42"
   ]
  },
  {
   "cell_type": "markdown",
   "id": "f7065d68",
   "metadata": {},
   "source": [
    "# Introduction"
   ]
  },
  {
   "cell_type": "markdown",
   "id": "f0c2a518",
   "metadata": {},
   "source": [
    "In this case, we will be analyzing the 'Users vs Bots Classification' dataset from Kaggle. This dataset contains profile data collected from VK.com, Russia’s largest social network, with the goal of distinguishing between genuine users and automated bots. Each row is an user,it includes a variety of user characteristics, featuring both numerical and categorical variables.\n",
    "\n",
    "For more information, you can view the dataset here:\n",
    "[Users vs Bots Classification on Kaggle](https://www.kaggle.com/datasets/juice0lover/users-vs-bots-classification/data)"
   ]
  },
  {
   "cell_type": "markdown",
   "id": "6f548ad0",
   "metadata": {},
   "source": [
    "For this case, we will apply two different unsupervised learning approaches to predict the data. First, we will use PCA (Principal Component Analysis) to identify and extract the most important features. After that, we will experiment with different clustering methods to find the model that best classifies the data into users and bots.\n",
    "\n",
    "Although the dataset contains a target variable, since we are focusing solely on unsupervised approaches, we will remove the target variable from the training set. However, we will keep it in the test set in order to evaluate the performance of our models and measure the quality of our predictions."
   ]
  },
  {
   "cell_type": "code",
   "execution_count": 120,
   "id": "ddb724ac",
   "metadata": {},
   "outputs": [
    {
     "name": "stdout",
     "output_type": "stream",
     "text": [
      "Path to dataset files: C:\\Users\\david\\.cache\\kagglehub\\datasets\\juice0lover\\users-vs-bots-classification\\versions\\3\n"
     ]
    }
   ],
   "source": [
    "# Download latest version\n",
    "path = kagglehub.dataset_download(\"juice0lover/users-vs-bots-classification\")\n",
    "\n",
    "print(\"Path to dataset files:\", path)"
   ]
  },
  {
   "cell_type": "markdown",
   "id": "e2d3656f",
   "metadata": {},
   "source": [
    "# EDA"
   ]
  },
  {
   "cell_type": "code",
   "execution_count": 121,
   "id": "17df7545",
   "metadata": {},
   "outputs": [
    {
     "data": {
      "text/html": [
       "<div>\n",
       "<style scoped>\n",
       "    .dataframe tbody tr th:only-of-type {\n",
       "        vertical-align: middle;\n",
       "    }\n",
       "\n",
       "    .dataframe tbody tr th {\n",
       "        vertical-align: top;\n",
       "    }\n",
       "\n",
       "    .dataframe thead th {\n",
       "        text-align: right;\n",
       "    }\n",
       "</style>\n",
       "<table border=\"1\" class=\"dataframe\">\n",
       "  <thead>\n",
       "    <tr style=\"text-align: right;\">\n",
       "      <th></th>\n",
       "      <th>has_domain</th>\n",
       "      <th>has_birth_date</th>\n",
       "      <th>has_photo</th>\n",
       "      <th>can_post_on_wall</th>\n",
       "      <th>can_send_message</th>\n",
       "      <th>has_website</th>\n",
       "      <th>gender</th>\n",
       "      <th>has_short_name</th>\n",
       "      <th>has_first_name</th>\n",
       "      <th>has_last_name</th>\n",
       "      <th>...</th>\n",
       "      <th>ads_ratio</th>\n",
       "      <th>avg_views</th>\n",
       "      <th>posting_frequency_days</th>\n",
       "      <th>phone_numbers_ratio</th>\n",
       "      <th>avg_text_uniqueness</th>\n",
       "      <th>city</th>\n",
       "      <th>has_occupation</th>\n",
       "      <th>occupation_type_university</th>\n",
       "      <th>occupation_type_work</th>\n",
       "      <th>has_personal_data</th>\n",
       "    </tr>\n",
       "  </thead>\n",
       "  <tbody>\n",
       "    <tr>\n",
       "      <th>0</th>\n",
       "      <td>1.0</td>\n",
       "      <td>1.0</td>\n",
       "      <td>0.0</td>\n",
       "      <td>0.0</td>\n",
       "      <td>0.0</td>\n",
       "      <td>0.0</td>\n",
       "      <td>1.0</td>\n",
       "      <td>1.0</td>\n",
       "      <td>1.0</td>\n",
       "      <td>1.0</td>\n",
       "      <td>...</td>\n",
       "      <td>NaN</td>\n",
       "      <td>NaN</td>\n",
       "      <td>NaN</td>\n",
       "      <td>NaN</td>\n",
       "      <td>NaN</td>\n",
       "      <td>Unknown</td>\n",
       "      <td>Unknown</td>\n",
       "      <td>Unknown</td>\n",
       "      <td>Unknown</td>\n",
       "      <td>Unknown</td>\n",
       "    </tr>\n",
       "    <tr>\n",
       "      <th>1</th>\n",
       "      <td>1.0</td>\n",
       "      <td>1.0</td>\n",
       "      <td>0.0</td>\n",
       "      <td>0.0</td>\n",
       "      <td>0.0</td>\n",
       "      <td>0.0</td>\n",
       "      <td>1.0</td>\n",
       "      <td>1.0</td>\n",
       "      <td>1.0</td>\n",
       "      <td>1.0</td>\n",
       "      <td>...</td>\n",
       "      <td>NaN</td>\n",
       "      <td>NaN</td>\n",
       "      <td>NaN</td>\n",
       "      <td>NaN</td>\n",
       "      <td>NaN</td>\n",
       "      <td>Unknown</td>\n",
       "      <td>Unknown</td>\n",
       "      <td>Unknown</td>\n",
       "      <td>Unknown</td>\n",
       "      <td>Unknown</td>\n",
       "    </tr>\n",
       "    <tr>\n",
       "      <th>2</th>\n",
       "      <td>1.0</td>\n",
       "      <td>1.0</td>\n",
       "      <td>0.0</td>\n",
       "      <td>0.0</td>\n",
       "      <td>0.0</td>\n",
       "      <td>0.0</td>\n",
       "      <td>1.0</td>\n",
       "      <td>1.0</td>\n",
       "      <td>1.0</td>\n",
       "      <td>1.0</td>\n",
       "      <td>...</td>\n",
       "      <td>NaN</td>\n",
       "      <td>NaN</td>\n",
       "      <td>NaN</td>\n",
       "      <td>NaN</td>\n",
       "      <td>NaN</td>\n",
       "      <td>Unknown</td>\n",
       "      <td>Unknown</td>\n",
       "      <td>Unknown</td>\n",
       "      <td>Unknown</td>\n",
       "      <td>Unknown</td>\n",
       "    </tr>\n",
       "    <tr>\n",
       "      <th>3</th>\n",
       "      <td>1.0</td>\n",
       "      <td>1.0</td>\n",
       "      <td>0.0</td>\n",
       "      <td>0.0</td>\n",
       "      <td>0.0</td>\n",
       "      <td>0.0</td>\n",
       "      <td>1.0</td>\n",
       "      <td>1.0</td>\n",
       "      <td>1.0</td>\n",
       "      <td>1.0</td>\n",
       "      <td>...</td>\n",
       "      <td>NaN</td>\n",
       "      <td>NaN</td>\n",
       "      <td>NaN</td>\n",
       "      <td>NaN</td>\n",
       "      <td>NaN</td>\n",
       "      <td>Unknown</td>\n",
       "      <td>Unknown</td>\n",
       "      <td>Unknown</td>\n",
       "      <td>Unknown</td>\n",
       "      <td>Unknown</td>\n",
       "    </tr>\n",
       "    <tr>\n",
       "      <th>4</th>\n",
       "      <td>1.0</td>\n",
       "      <td>1.0</td>\n",
       "      <td>0.0</td>\n",
       "      <td>0.0</td>\n",
       "      <td>0.0</td>\n",
       "      <td>0.0</td>\n",
       "      <td>1.0</td>\n",
       "      <td>1.0</td>\n",
       "      <td>1.0</td>\n",
       "      <td>1.0</td>\n",
       "      <td>...</td>\n",
       "      <td>NaN</td>\n",
       "      <td>NaN</td>\n",
       "      <td>NaN</td>\n",
       "      <td>NaN</td>\n",
       "      <td>NaN</td>\n",
       "      <td>Unknown</td>\n",
       "      <td>Unknown</td>\n",
       "      <td>Unknown</td>\n",
       "      <td>Unknown</td>\n",
       "      <td>Unknown</td>\n",
       "    </tr>\n",
       "  </tbody>\n",
       "</table>\n",
       "<p>5 rows × 60 columns</p>\n",
       "</div>"
      ],
      "text/plain": [
       "  has_domain has_birth_date has_photo can_post_on_wall can_send_message  \\\n",
       "0        1.0            1.0       0.0              0.0              0.0   \n",
       "1        1.0            1.0       0.0              0.0              0.0   \n",
       "2        1.0            1.0       0.0              0.0              0.0   \n",
       "3        1.0            1.0       0.0              0.0              0.0   \n",
       "4        1.0            1.0       0.0              0.0              0.0   \n",
       "\n",
       "  has_website gender has_short_name has_first_name has_last_name  ...  \\\n",
       "0         0.0    1.0            1.0            1.0           1.0  ...   \n",
       "1         0.0    1.0            1.0            1.0           1.0  ...   \n",
       "2         0.0    1.0            1.0            1.0           1.0  ...   \n",
       "3         0.0    1.0            1.0            1.0           1.0  ...   \n",
       "4         0.0    1.0            1.0            1.0           1.0  ...   \n",
       "\n",
       "  ads_ratio avg_views  posting_frequency_days phone_numbers_ratio  \\\n",
       "0       NaN       NaN                     NaN                 NaN   \n",
       "1       NaN       NaN                     NaN                 NaN   \n",
       "2       NaN       NaN                     NaN                 NaN   \n",
       "3       NaN       NaN                     NaN                 NaN   \n",
       "4       NaN       NaN                     NaN                 NaN   \n",
       "\n",
       "  avg_text_uniqueness     city has_occupation occupation_type_university  \\\n",
       "0                 NaN  Unknown        Unknown                    Unknown   \n",
       "1                 NaN  Unknown        Unknown                    Unknown   \n",
       "2                 NaN  Unknown        Unknown                    Unknown   \n",
       "3                 NaN  Unknown        Unknown                    Unknown   \n",
       "4                 NaN  Unknown        Unknown                    Unknown   \n",
       "\n",
       "  occupation_type_work has_personal_data  \n",
       "0              Unknown           Unknown  \n",
       "1              Unknown           Unknown  \n",
       "2              Unknown           Unknown  \n",
       "3              Unknown           Unknown  \n",
       "4              Unknown           Unknown  \n",
       "\n",
       "[5 rows x 60 columns]"
      ]
     },
     "execution_count": 121,
     "metadata": {},
     "output_type": "execute_result"
    }
   ],
   "source": [
    "user_bots = pd.read_csv(r\"C:\\Users\\david\\.cache\\kagglehub\\datasets\\juice0lover\\users-vs-bots-classification\\versions\\3\\bots_vs_users.csv\")\n",
    "user_bots.head()"
   ]
  },
  {
   "cell_type": "code",
   "execution_count": 122,
   "id": "60f7cb78",
   "metadata": {},
   "outputs": [
    {
     "name": "stdout",
     "output_type": "stream",
     "text": [
      "<class 'pandas.core.frame.DataFrame'>\n",
      "RangeIndex: 5874 entries, 0 to 5873\n",
      "Data columns (total 60 columns):\n",
      " #   Column                      Non-Null Count  Dtype  \n",
      "---  ------                      --------------  -----  \n",
      " 0   has_domain                  5874 non-null   object \n",
      " 1   has_birth_date              5874 non-null   object \n",
      " 2   has_photo                   5874 non-null   object \n",
      " 3   can_post_on_wall            5874 non-null   object \n",
      " 4   can_send_message            5874 non-null   object \n",
      " 5   has_website                 5874 non-null   object \n",
      " 6   gender                      5874 non-null   object \n",
      " 7   has_short_name              5874 non-null   object \n",
      " 8   has_first_name              5874 non-null   object \n",
      " 9   has_last_name               5874 non-null   object \n",
      " 10  access_to_closed_profile    5874 non-null   object \n",
      " 11  is_profile_closed           5874 non-null   object \n",
      " 12  target                      5874 non-null   int64  \n",
      " 13  has_nickname                5874 non-null   object \n",
      " 14  has_maiden_name             5874 non-null   object \n",
      " 15  has_mobile                  5874 non-null   object \n",
      " 16  all_posts_visible           5874 non-null   object \n",
      " 17  audio_available             5874 non-null   object \n",
      " 18  has_interests               5874 non-null   object \n",
      " 19  has_books                   5874 non-null   object \n",
      " 20  has_tv                      5874 non-null   object \n",
      " 21  has_quotes                  5874 non-null   object \n",
      " 22  has_about                   5874 non-null   object \n",
      " 23  has_games                   5874 non-null   object \n",
      " 24  has_movies                  5874 non-null   object \n",
      " 25  has_activities              5874 non-null   object \n",
      " 26  has_music                   5874 non-null   object \n",
      " 27  can_add_as_friend           5874 non-null   object \n",
      " 28  can_invite_to_group         5874 non-null   object \n",
      " 29  subscribers_count           5874 non-null   object \n",
      " 30  is_blacklisted              5874 non-null   object \n",
      " 31  has_career                  5874 non-null   object \n",
      " 32  has_military_service        5874 non-null   object \n",
      " 33  has_hometown                5874 non-null   object \n",
      " 34  marital_status              5874 non-null   object \n",
      " 35  has_universities            5874 non-null   object \n",
      " 36  has_schools                 5874 non-null   object \n",
      " 37  has_relatives               5874 non-null   object \n",
      " 38  is_verified                 5874 non-null   object \n",
      " 39  is_confirmed                5874 non-null   object \n",
      " 40  has_status                  5874 non-null   object \n",
      " 41  posts_count                 1391 non-null   float64\n",
      " 42  avg_likes                   1391 non-null   float64\n",
      " 43  links_ratio                 1391 non-null   float64\n",
      " 44  hashtags_ratio              1391 non-null   float64\n",
      " 45  avg_keywords                1391 non-null   float64\n",
      " 46  avg_text_length             1391 non-null   float64\n",
      " 47  attachments_ratio           1391 non-null   float64\n",
      " 48  avg_comments                1391 non-null   float64\n",
      " 49  reposts_ratio               1391 non-null   float64\n",
      " 50  ads_ratio                   1391 non-null   float64\n",
      " 51  avg_views                   1391 non-null   float64\n",
      " 52  posting_frequency_days      1391 non-null   float64\n",
      " 53  phone_numbers_ratio         1391 non-null   float64\n",
      " 54  avg_text_uniqueness         1391 non-null   float64\n",
      " 55  city                        5874 non-null   object \n",
      " 56  has_occupation              5874 non-null   object \n",
      " 57  occupation_type_university  5874 non-null   object \n",
      " 58  occupation_type_work        5874 non-null   object \n",
      " 59  has_personal_data           5874 non-null   object \n",
      "dtypes: float64(14), int64(1), object(45)\n",
      "memory usage: 2.7+ MB\n"
     ]
    }
   ],
   "source": [
    "user_bots.info()"
   ]
  },
  {
   "cell_type": "code",
   "execution_count": 123,
   "id": "b3b842ac",
   "metadata": {},
   "outputs": [
    {
     "data": {
      "text/html": [
       "<div>\n",
       "<style scoped>\n",
       "    .dataframe tbody tr th:only-of-type {\n",
       "        vertical-align: middle;\n",
       "    }\n",
       "\n",
       "    .dataframe tbody tr th {\n",
       "        vertical-align: top;\n",
       "    }\n",
       "\n",
       "    .dataframe thead th {\n",
       "        text-align: right;\n",
       "    }\n",
       "</style>\n",
       "<table border=\"1\" class=\"dataframe\">\n",
       "  <thead>\n",
       "    <tr style=\"text-align: right;\">\n",
       "      <th></th>\n",
       "      <th>target</th>\n",
       "      <th>posts_count</th>\n",
       "      <th>avg_likes</th>\n",
       "      <th>links_ratio</th>\n",
       "      <th>hashtags_ratio</th>\n",
       "      <th>avg_keywords</th>\n",
       "      <th>avg_text_length</th>\n",
       "      <th>attachments_ratio</th>\n",
       "      <th>avg_comments</th>\n",
       "      <th>reposts_ratio</th>\n",
       "      <th>ads_ratio</th>\n",
       "      <th>avg_views</th>\n",
       "      <th>posting_frequency_days</th>\n",
       "      <th>phone_numbers_ratio</th>\n",
       "      <th>avg_text_uniqueness</th>\n",
       "    </tr>\n",
       "  </thead>\n",
       "  <tbody>\n",
       "    <tr>\n",
       "      <th>count</th>\n",
       "      <td>5874.000000</td>\n",
       "      <td>1391.000000</td>\n",
       "      <td>1391.000000</td>\n",
       "      <td>1391.000000</td>\n",
       "      <td>1391.000000</td>\n",
       "      <td>1391.000000</td>\n",
       "      <td>1391.000000</td>\n",
       "      <td>1391.000000</td>\n",
       "      <td>1391.000000</td>\n",
       "      <td>1391.000000</td>\n",
       "      <td>1391.000000</td>\n",
       "      <td>1391.000000</td>\n",
       "      <td>1391.000000</td>\n",
       "      <td>1391.000000</td>\n",
       "      <td>1391.000000</td>\n",
       "    </tr>\n",
       "    <tr>\n",
       "      <th>mean</th>\n",
       "      <td>0.500000</td>\n",
       "      <td>18.629044</td>\n",
       "      <td>19.552487</td>\n",
       "      <td>0.156463</td>\n",
       "      <td>0.143918</td>\n",
       "      <td>7.730661</td>\n",
       "      <td>544.752035</td>\n",
       "      <td>0.895945</td>\n",
       "      <td>0.610812</td>\n",
       "      <td>0.433638</td>\n",
       "      <td>0.002667</td>\n",
       "      <td>623.834788</td>\n",
       "      <td>66.330065</td>\n",
       "      <td>0.000568</td>\n",
       "      <td>0.668009</td>\n",
       "    </tr>\n",
       "    <tr>\n",
       "      <th>std</th>\n",
       "      <td>0.500043</td>\n",
       "      <td>4.231994</td>\n",
       "      <td>41.954881</td>\n",
       "      <td>0.202730</td>\n",
       "      <td>0.187085</td>\n",
       "      <td>11.278711</td>\n",
       "      <td>746.728130</td>\n",
       "      <td>0.170084</td>\n",
       "      <td>2.461709</td>\n",
       "      <td>0.397830</td>\n",
       "      <td>0.033136</td>\n",
       "      <td>1617.635460</td>\n",
       "      <td>154.970296</td>\n",
       "      <td>0.009545</td>\n",
       "      <td>0.229815</td>\n",
       "    </tr>\n",
       "    <tr>\n",
       "      <th>min</th>\n",
       "      <td>0.000000</td>\n",
       "      <td>1.000000</td>\n",
       "      <td>0.000000</td>\n",
       "      <td>0.000000</td>\n",
       "      <td>0.000000</td>\n",
       "      <td>0.000000</td>\n",
       "      <td>0.000000</td>\n",
       "      <td>0.000000</td>\n",
       "      <td>0.000000</td>\n",
       "      <td>0.000000</td>\n",
       "      <td>0.000000</td>\n",
       "      <td>0.000000</td>\n",
       "      <td>0.000000</td>\n",
       "      <td>0.000000</td>\n",
       "      <td>0.000000</td>\n",
       "    </tr>\n",
       "    <tr>\n",
       "      <th>25%</th>\n",
       "      <td>0.000000</td>\n",
       "      <td>20.000000</td>\n",
       "      <td>0.400000</td>\n",
       "      <td>0.000000</td>\n",
       "      <td>0.000000</td>\n",
       "      <td>1.100000</td>\n",
       "      <td>86.600000</td>\n",
       "      <td>0.850000</td>\n",
       "      <td>0.000000</td>\n",
       "      <td>0.050000</td>\n",
       "      <td>0.000000</td>\n",
       "      <td>9.125000</td>\n",
       "      <td>1.980000</td>\n",
       "      <td>0.000000</td>\n",
       "      <td>0.580000</td>\n",
       "    </tr>\n",
       "    <tr>\n",
       "      <th>50%</th>\n",
       "      <td>0.500000</td>\n",
       "      <td>20.000000</td>\n",
       "      <td>7.600000</td>\n",
       "      <td>0.100000</td>\n",
       "      <td>0.050000</td>\n",
       "      <td>3.400000</td>\n",
       "      <td>267.800000</td>\n",
       "      <td>0.950000</td>\n",
       "      <td>0.000000</td>\n",
       "      <td>0.300000</td>\n",
       "      <td>0.000000</td>\n",
       "      <td>268.950000</td>\n",
       "      <td>30.950000</td>\n",
       "      <td>0.000000</td>\n",
       "      <td>0.710000</td>\n",
       "    </tr>\n",
       "    <tr>\n",
       "      <th>75%</th>\n",
       "      <td>1.000000</td>\n",
       "      <td>20.000000</td>\n",
       "      <td>26.075000</td>\n",
       "      <td>0.200000</td>\n",
       "      <td>0.200000</td>\n",
       "      <td>7.850000</td>\n",
       "      <td>616.850000</td>\n",
       "      <td>1.000000</td>\n",
       "      <td>0.200000</td>\n",
       "      <td>0.900000</td>\n",
       "      <td>0.000000</td>\n",
       "      <td>746.050000</td>\n",
       "      <td>89.480000</td>\n",
       "      <td>0.000000</td>\n",
       "      <td>0.830000</td>\n",
       "    </tr>\n",
       "    <tr>\n",
       "      <th>max</th>\n",
       "      <td>1.000000</td>\n",
       "      <td>20.000000</td>\n",
       "      <td>894.900000</td>\n",
       "      <td>1.000000</td>\n",
       "      <td>1.000000</td>\n",
       "      <td>61.600000</td>\n",
       "      <td>5841.250000</td>\n",
       "      <td>1.000000</td>\n",
       "      <td>64.050000</td>\n",
       "      <td>1.000000</td>\n",
       "      <td>0.950000</td>\n",
       "      <td>41415.700000</td>\n",
       "      <td>2866.590000</td>\n",
       "      <td>0.300000</td>\n",
       "      <td>1.000000</td>\n",
       "    </tr>\n",
       "  </tbody>\n",
       "</table>\n",
       "</div>"
      ],
      "text/plain": [
       "            target  posts_count    avg_likes  links_ratio  hashtags_ratio  \\\n",
       "count  5874.000000  1391.000000  1391.000000  1391.000000     1391.000000   \n",
       "mean      0.500000    18.629044    19.552487     0.156463        0.143918   \n",
       "std       0.500043     4.231994    41.954881     0.202730        0.187085   \n",
       "min       0.000000     1.000000     0.000000     0.000000        0.000000   \n",
       "25%       0.000000    20.000000     0.400000     0.000000        0.000000   \n",
       "50%       0.500000    20.000000     7.600000     0.100000        0.050000   \n",
       "75%       1.000000    20.000000    26.075000     0.200000        0.200000   \n",
       "max       1.000000    20.000000   894.900000     1.000000        1.000000   \n",
       "\n",
       "       avg_keywords  avg_text_length  attachments_ratio  avg_comments  \\\n",
       "count   1391.000000      1391.000000        1391.000000   1391.000000   \n",
       "mean       7.730661       544.752035           0.895945      0.610812   \n",
       "std       11.278711       746.728130           0.170084      2.461709   \n",
       "min        0.000000         0.000000           0.000000      0.000000   \n",
       "25%        1.100000        86.600000           0.850000      0.000000   \n",
       "50%        3.400000       267.800000           0.950000      0.000000   \n",
       "75%        7.850000       616.850000           1.000000      0.200000   \n",
       "max       61.600000      5841.250000           1.000000     64.050000   \n",
       "\n",
       "       reposts_ratio    ads_ratio     avg_views  posting_frequency_days  \\\n",
       "count    1391.000000  1391.000000   1391.000000             1391.000000   \n",
       "mean        0.433638     0.002667    623.834788               66.330065   \n",
       "std         0.397830     0.033136   1617.635460              154.970296   \n",
       "min         0.000000     0.000000      0.000000                0.000000   \n",
       "25%         0.050000     0.000000      9.125000                1.980000   \n",
       "50%         0.300000     0.000000    268.950000               30.950000   \n",
       "75%         0.900000     0.000000    746.050000               89.480000   \n",
       "max         1.000000     0.950000  41415.700000             2866.590000   \n",
       "\n",
       "       phone_numbers_ratio  avg_text_uniqueness  \n",
       "count          1391.000000          1391.000000  \n",
       "mean              0.000568             0.668009  \n",
       "std               0.009545             0.229815  \n",
       "min               0.000000             0.000000  \n",
       "25%               0.000000             0.580000  \n",
       "50%               0.000000             0.710000  \n",
       "75%               0.000000             0.830000  \n",
       "max               0.300000             1.000000  "
      ]
     },
     "execution_count": 123,
     "metadata": {},
     "output_type": "execute_result"
    }
   ],
   "source": [
    "user_bots.describe()"
   ]
  },
  {
   "cell_type": "code",
   "execution_count": 124,
   "id": "9b015176",
   "metadata": {},
   "outputs": [
    {
     "name": "stdout",
     "output_type": "stream",
     "text": [
      "The dataset has a shape of:(5874, 60)\n"
     ]
    }
   ],
   "source": [
    "print(f'The dataset has a shape of:{user_bots.shape}')"
   ]
  },
  {
   "cell_type": "markdown",
   "id": "218bcd84",
   "metadata": {},
   "source": [
    "### Check Target data balance"
   ]
  },
  {
   "cell_type": "code",
   "execution_count": 125,
   "id": "f19d371a",
   "metadata": {},
   "outputs": [
    {
     "data": {
      "text/plain": [
       "<Axes: >"
      ]
     },
     "execution_count": 125,
     "metadata": {},
     "output_type": "execute_result"
    },
    {
     "data": {
      "image/png": "[encoded data removed]",
      "text/plain": [
       "<Figure size 640x480 with 1 Axes>"
      ]
     },
     "metadata": {},
     "output_type": "display_data"
    }
   ],
   "source": [
    "# Chack how many bots and users wew have on the data\n",
    "user_bots['target'].hist()"
   ]
  },
  {
   "cell_type": "markdown",
   "id": "65ffbb6b",
   "metadata": {},
   "source": [
    "The dataset appears to have a similar number of samples for both users and bots. This balance suggests it is a good choice for training, as there is no significant class imbalance."
   ]
  },
  {
   "cell_type": "markdown",
   "id": "08f93689",
   "metadata": {},
   "source": [
    "### Duplicated values "
   ]
  },
  {
   "cell_type": "code",
   "execution_count": 126,
   "id": "75485563",
   "metadata": {},
   "outputs": [
    {
     "name": "stdout",
     "output_type": "stream",
     "text": [
      "The number of duplicated rows are:2616\n"
     ]
    }
   ],
   "source": [
    "duplicates = user_bots.duplicated()\n",
    "print(f'The number of duplicated rows are:{duplicates.sum()}')"
   ]
  },
  {
   "cell_type": "markdown",
   "id": "e08bf96b",
   "metadata": {},
   "source": [
    "We have a high number of duplicated values in the dataset. However, since this is general data about users, we cannot be certain that these duplicates represent the same user multiple times — it’s possible that different users simply share similar characteristics. Since our goal is to predict whether an instance is a user or a bot, we should not remove these duplicated rows for now. They could contain important patterns that help distinguish between the two classes, so it’s important to keep them at this stage."
   ]
  },
  {
   "cell_type": "markdown",
   "id": "831081df",
   "metadata": {},
   "source": [
    "### Categorical Values"
   ]
  },
  {
   "cell_type": "markdown",
   "id": "2198f57c",
   "metadata": {},
   "source": [
    "To prepare the data for PCA, we need to encode the 'City' column, since it contains string values that PCA cannot process directly. To do this, we will use the Ordinal Encoder function, which maps each unique category in the column to an integer value. \n",
    "We will replace \"Unknown\" and NaN values with the number 2, so that the encoder starts assigning mapping integers from 3 onward, avoiding any conflicts with the special category we created."
   ]
  },
  {
   "cell_type": "code",
   "execution_count": 127,
   "id": "bea77236",
   "metadata": {},
   "outputs": [],
   "source": [
    "encoder = OrdinalEncoder()\n",
    "encoded_values = encoder.fit_transform(user_bots[['city']])\n",
    "encoded_values_shifted = encoded_values + 3\n",
    "user_bots['city'] = encoded_values_shifted"
   ]
  },
  {
   "cell_type": "markdown",
   "id": "4b27bd7b",
   "metadata": {},
   "source": [
    "### Missing Values and NaN values"
   ]
  },
  {
   "cell_type": "markdown",
   "id": "945d5447",
   "metadata": {},
   "source": [
    "The data has already been pre-processed by the author, who handled the missing values as follows:\n",
    "\n",
    "- For numerical features, missing values were left as NaN.\n",
    "\n",
    "- For categorical features, missing values were replaced with \"unknown.\"\n",
    "\n",
    "In both cases, we will encode \"Unknown\" and NaN values as 2. This will create a separate category that the algorithm can recognize and will also allow us to pass the data through PCA without issues."
   ]
  },
  {
   "cell_type": "code",
   "execution_count": 128,
   "id": "2bc64c95",
   "metadata": {},
   "outputs": [],
   "source": [
    "user_bots = user_bots.replace('Unknown', 2)\n",
    "user_bots = user_bots.fillna(2)"
   ]
  },
  {
   "cell_type": "code",
   "execution_count": 129,
   "id": "5c97ed2b",
   "metadata": {},
   "outputs": [],
   "source": [
    "X = user_bots.drop(columns=['target'],axis=1)\n",
    "y = user_bots['target']"
   ]
  },
  {
   "cell_type": "code",
   "execution_count": 130,
   "id": "db7838bb",
   "metadata": {},
   "outputs": [
    {
     "name": "stdout",
     "output_type": "stream",
     "text": [
      "The size of the training data is:(3935, 59)\n",
      "The size of the test data is:(1939, 59)\n"
     ]
    }
   ],
   "source": [
    "X_train, X_test, y_train, y_test = train_test_split(X, y, test_size=0.33, random_state=rd)\n",
    "print(f'The size of the training data is:{X_train.shape}')\n",
    "print(f'The size of the test data is:{X_test.shape}')"
   ]
  },
  {
   "cell_type": "markdown",
   "id": "30a788f7",
   "metadata": {},
   "source": [
    "# PCA and Clustering"
   ]
  },
  {
   "cell_type": "markdown",
   "id": "dd900197",
   "metadata": {},
   "source": [
    "A PCA (Principal Component Analysis) model will be applied to reduce the dataset’s dimensionality, keeping only the top 10 features that explain the most variability. The goal is to simplify the dataset, making it easier for the clustering algorithm to process and analyze"
   ]
  },
  {
   "cell_type": "code",
   "execution_count": null,
   "id": "f8e0b06b",
   "metadata": {},
   "outputs": [
    {
     "data": {
      "image/png": "[encoded data removed]",
      "text/plain": [
       "<Figure size 1500x500 with 3 Axes>"
      ]
     },
     "metadata": {},
     "output_type": "display_data"
    },
    {
     "name": "stdout",
     "output_type": "stream",
     "text": [
      "Best Model: Gaussian Mixture Model with Accuracy: 0.5105724600309438\n"
     ]
    }
   ],
   "source": [
    "# Function to visualize clustering results\n",
    "def plot_clusters(X, y, model_name, ax):\n",
    "    sns.scatterplot(x=X[:, 0], y=X[:, 1], hue=y, palette='Set1', s=100, ax=ax)\n",
    "    ax.set_title(f'{model_name} Clustering')\n",
    "    ax.set_xlabel('Component 1')\n",
    "    ax.set_ylabel('Component 2')\n",
    "\n",
    "# Function to apply PCA for dimensionality reduction\n",
    "def apply_pca(X, n_components=2):\n",
    "    pca = PCA(n_components=n_components)\n",
    "    X_pca = pca.fit_transform(X)\n",
    "    return X_pca\n",
    "\n",
    "# Function to apply clustering models and evaluate\n",
    "def apply_clustering_models(X_train, X_test, y_train, y_test):\n",
    "    # Encode y_train for coloring in scatter plot\n",
    "    le = LabelEncoder()\n",
    "    y_train_encoded = le.fit_transform(y_train)\n",
    "\n",
    "    # Apply PCA to reduce the data to 2 dimensions\n",
    "    X_train_pca = apply_pca(X_train)\n",
    "    X_test_pca = apply_pca(X_test)\n",
    "\n",
    "    # List of clustering algorithms to test\n",
    "    clustering_algorithms = [\n",
    "        ('KMeans', KMeans(n_clusters=2, random_state=42)),\n",
    "        ('Agglomerative Clustering', AgglomerativeClustering(n_clusters=2)),\n",
    "        ('Gaussian Mixture Model', GaussianMixture(n_components=2, random_state=rd))\n",
    "    ]\n",
    "    \n",
    "    # Set up plotting\n",
    "    fig, axes = plt.subplots(1, len(clustering_algorithms), figsize=(15, 5))\n",
    "\n",
    "    best_accuracy = 0\n",
    "    best_model = None\n",
    "    best_y_pred = None\n",
    "    best_model_name = \"\"\n",
    "\n",
    "    for idx, (name, model) in enumerate(clustering_algorithms):\n",
    "        # Fit the model on X_train_pca\n",
    "        model.fit(X_train_pca)\n",
    "        \n",
    "        # Predict on X_test_pca\n",
    "        if hasattr(model, 'predict'):\n",
    "            y_test_pred = model.predict(X_test_pca)\n",
    "        else:\n",
    "            # Some models like Agglomerative and Spectral don't have 'predict' method\n",
    "            y_test_pred = model.fit_predict(X_test_pca)\n",
    "        \n",
    "        # Map predictions to the correct labels (0 and 1)\n",
    "        y_test_pred_mapped = le.inverse_transform(y_test_pred)\n",
    "        \n",
    "        # Compute accuracy on the test set\n",
    "        accuracy = accuracy_score(y_test, y_test_pred_mapped)\n",
    "        \n",
    "        # If the accuracy is the best, store the result\n",
    "        if accuracy > best_accuracy:\n",
    "            best_accuracy = accuracy\n",
    "            best_model = model\n",
    "            best_y_pred = y_test_pred\n",
    "            best_model_name = name\n",
    "        \n",
    "        # Visualize the clustering results\n",
    "        plot_clusters(X_test_pca, y_test, name, axes[idx])\n",
    "\n",
    "    plt.tight_layout()\n",
    "    plt.show()\n",
    "    \n",
    "    return best_model_name, best_accuracy\n",
    "\n",
    "best_model_name, best_accuracy = apply_clustering_models(X_train, X_test, y_train, y_test)\n",
    "\n",
    "print(f\"Best Model: {best_model_name} with Accuracy: {best_accuracy}\")\n"
   ]
  },
  {
   "cell_type": "markdown",
   "id": "38905520",
   "metadata": {},
   "source": [
    "# Conclusions "
   ]
  },
  {
   "cell_type": "markdown",
   "id": "83ab485a",
   "metadata": {},
   "source": [
    "After reviewing the results from the model we created earlier, the best accuracy we achieved was 51%. This is not an ideal result for this type of dataset. In this case, we only used unsupervised models, which likely contributed to the poor performance. Although we attempted to improve accuracy by applying PCA and experimenting with different clustering models, the results did not improve significantly.\n",
    "\n",
    "Therefore, it seems the main issue lies in the choice of models. Perhaps if we had tried supervised models—like others who have worked on this dataset on Kaggle—we could have achieved better results.\n",
    "\n",
    "Nonetheless, the main objective of this case was to evaluate the performance of unsupervised models. We conclude that, although unsupervised models may not deliver the best results in every situation, they are still valuable tools to consider for future projects. With better preprocessing or with a different dataset, these models might perform much better."
   ]
  }
 ],
 "metadata": {
  "kernelspec": {
   "display_name": "base",
   "language": "python",
   "name": "python3"
  },
  "language_info": {
   "codemirror_mode": {
    "name": "ipython",
    "version": 3
   },
   "file_extension": ".py",
   "mimetype": "text/x-python",
   "name": "python",
   "nbconvert_exporter": "python",
   "pygments_lexer": "ipython3",
   "version": "3.12.9"
  }
 },
 "nbformat": 4,
 "nbformat_minor": 5
}
